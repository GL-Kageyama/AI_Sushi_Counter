{
 "cells": [
  {
   "cell_type": "code",
   "execution_count": 1,
   "metadata": {},
   "outputs": [],
   "source": [
    "# Copyright (c) 2020 a1kageyama\n",
    "# Released under the MIT license\n",
    "# https://github.com/a1kageyama/AI_Sushi_Counter\n",
    "\n",
    "import numpy as np\n",
    "from PIL import Image\n",
    "import os, glob, random\n",
    "import cv2\n",
    "import matplotlib.pyplot as plt\n",
    "from sklearn.model_selection import train_test_split\n",
    "import CnnModel\n",
    "import keras"
   ]
  },
  {
   "cell_type": "code",
   "execution_count": 2,
   "metadata": {},
   "outputs": [],
   "source": [
    "outFile = \"SystemData/Model/SushiPhotos.npz\"\n",
    "maxPhoto = 200\n",
    "xPath = []\n",
    "yLabel = []\n",
    "\n",
    "# Keep the size of the training model under the maximum GitHub file size of 100MB.\n",
    "# To achieve this, the image was reduced from 64 pixels to 60 pixels.\n",
    "photoSize = 60"
   ]
  },
  {
   "cell_type": "code",
   "execution_count": 3,
   "metadata": {},
   "outputs": [],
   "source": [
    "# All Images to Numpy Format\n",
    "def saveImages():\n",
    "\n",
    "    # Load the Image of a Folder\n",
    "    readImages(\"./SystemData/PhotoData/Bonito\", 0)\n",
    "    readImages(\"./SystemData/PhotoData/CaliforniaRoll\", 1)\n",
    "    readImages(\"./SystemData/PhotoData/CongerEel\", 2)\n",
    "    readImages(\"./SystemData/PhotoData/FattyTuna\", 3)\n",
    "    readImages(\"./SystemData/PhotoData/InariSushi\", 4)\n",
    "    readImages(\"./SystemData/PhotoData/LeanTuna\", 5)\n",
    "    readImages(\"./SystemData/PhotoData/Mackerel\", 6)\n",
    "    readImages(\"./SystemData/PhotoData/Salmon\", 7)\n",
    "    readImages(\"./SystemData/PhotoData/SalmonRoe\", 8)\n",
    "    readImages(\"./SystemData/PhotoData/Scallop\", 9)\n",
    "    readImages(\"./SystemData/PhotoData/SeaUrchin\", 10)\n",
    "    readImages(\"./SystemData/PhotoData/Shrimp\", 11)\n",
    "    readImages(\"./SystemData/PhotoData/SushiBurrito\", 12)\n",
    "    readImages(\"./SystemData/PhotoData/Tamago\", 13)\n",
    "    readImages(\"./SystemData/PhotoData/TunaRoll\", 14)\n",
    "\n",
    "    # Save to File\n",
    "    np.savez(outFile, x=xPath, y=yLabel)\n",
    "    print(\"Save completed : \" + outFile, len(xPath))"
   ]
  },
  {
   "cell_type": "code",
   "execution_count": 4,
   "metadata": {},
   "outputs": [],
   "source": [
    "# Labeling Images in a Path\n",
    "def readImages(path, label):\n",
    "\n",
    "    files = glob.glob(path + \"/*.jpg\")\n",
    "    random.shuffle(files)\n",
    "    num = 0\n",
    "    \n",
    "    for f in files:\n",
    "        if num >= maxPhoto: break\n",
    "        num += 1\n",
    "        img = Image.open(f)\n",
    "        img = img.convert(\"RGB\")\n",
    "        img = img.resize((photoSize, photoSize))\n",
    "        img = np.asarray(img)\n",
    "        xPath.append(img)\n",
    "        yLabel.append(label)"
   ]
  },
  {
   "cell_type": "code",
   "execution_count": 5,
   "metadata": {},
   "outputs": [
    {
     "name": "stdout",
     "output_type": "stream",
     "text": [
      "Save completed : SystemData/Model/SushiPhotos.npz 3000\n"
     ]
    }
   ],
   "source": [
    "# Save the Image Data to Numpy Format\n",
    "saveImages()"
   ]
  },
  {
   "cell_type": "code",
   "execution_count": 6,
   "metadata": {},
   "outputs": [],
   "source": [
    "# Specify Input and Output\n",
    "imgRow = 60\n",
    "imgCol = 60\n",
    "imgColor = 3\n",
    "inShape = (imgRow, imgCol, imgColor)\n",
    "nbClass = 15\n",
    "\n",
    "# Loading Photo Data\n",
    "photos = np.load(\"SystemData/Model/SushiPhotos.npz\")\n",
    "xPhotos = photos[\"x\"]\n",
    "yPhotos = photos[\"y\"]"
   ]
  },
  {
   "cell_type": "code",
   "execution_count": 7,
   "metadata": {},
   "outputs": [],
   "source": [
    "# Convert the Read Data into a Three-Dimensional Array\n",
    "xPhotos = xPhotos.reshape(-1, imgRow, imgCol, imgColor)\n",
    "xPhotos = xPhotos.astype(\"float32\") / 255\n",
    "\n",
    "# Fix Label Data to One-Hot Vectors\n",
    "yPhotos = keras.utils.to_categorical(yPhotos.astype(\"int32\"), nbClass)\n",
    "\n",
    "# Separate for Training and Testing\n",
    "xTrain, xTest, yTrain, yTest = train_test_split(xPhotos, yPhotos, train_size=0.8)"
   ]
  },
  {
   "cell_type": "code",
   "execution_count": 8,
   "metadata": {},
   "outputs": [],
   "source": [
    "# Data Augmentation\n",
    "xNew = []\n",
    "yNew = []\n",
    "for i, xi in enumerate(xTrain):\n",
    "    yi = yTrain[i]\n",
    "    for ang in range(-30, 30, 20):\n",
    "\n",
    "        # Rotation\n",
    "        center = (30, 30)\n",
    "        mtx = cv2.getRotationMatrix2D(center, ang, 1.0)\n",
    "        xi2 = cv2.warpAffine(xi, mtx, (60, 60))\n",
    "        xNew.append(xi2)\n",
    "        yNew.append(yi)\n",
    "\n",
    "        # Horizontal flipping\n",
    "        xi3 = cv2.flip(xi2, 1)\n",
    "        xNew.append(xi3)\n",
    "        yNew.append(yi)"
   ]
  },
  {
   "cell_type": "code",
   "execution_count": 9,
   "metadata": {},
   "outputs": [
    {
     "name": "stdout",
     "output_type": "stream",
     "text": [
      "Before Data Augmentation :  2400\n",
      "After  Data Augmentation :  14400\n"
     ]
    }
   ],
   "source": [
    "# Replacing Data Augmentation Images for Training\n",
    "print(\"Before Data Augmentation : \", len(yTrain))\n",
    "xTrain = np.array(xNew)\n",
    "yTrain = np.array(yNew)\n",
    "print(\"After  Data Augmentation : \", len(yTrain))"
   ]
  },
  {
   "cell_type": "code",
   "execution_count": 10,
   "metadata": {},
   "outputs": [
    {
     "name": "stdout",
     "output_type": "stream",
     "text": [
      "Model: \"sequential\"\n",
      "_________________________________________________________________\n",
      "Layer (type)                 Output Shape              Param #   \n",
      "=================================================================\n",
      "block1_conv (Conv2D)         (None, 58, 58, 64)        1792      \n",
      "_________________________________________________________________\n",
      "batch_normalization (BatchNo (None, 58, 58, 64)        256       \n",
      "_________________________________________________________________\n",
      "block1_pool (MaxPooling2D)   (None, 29, 29, 64)        0         \n",
      "_________________________________________________________________\n",
      "dropout (Dropout)            (None, 29, 29, 64)        0         \n",
      "_________________________________________________________________\n",
      "block2_conv (Conv2D)         (None, 27, 27, 128)       73856     \n",
      "_________________________________________________________________\n",
      "batch_normalization_1 (Batch (None, 27, 27, 128)       512       \n",
      "_________________________________________________________________\n",
      "block2_pool (MaxPooling2D)   (None, 13, 13, 128)       0         \n",
      "_________________________________________________________________\n",
      "dropout_1 (Dropout)          (None, 13, 13, 128)       0         \n",
      "_________________________________________________________________\n",
      "block3_conv (Conv2D)         (None, 11, 11, 256)       295168    \n",
      "_________________________________________________________________\n",
      "batch_normalization_2 (Batch (None, 11, 11, 256)       1024      \n",
      "_________________________________________________________________\n",
      "block3_pool (MaxPooling2D)   (None, 5, 5, 256)         0         \n",
      "_________________________________________________________________\n",
      "dropout_2 (Dropout)          (None, 5, 5, 256)         0         \n",
      "_________________________________________________________________\n",
      "block4_conv (Conv2D)         (None, 3, 3, 512)         1180160   \n",
      "_________________________________________________________________\n",
      "batch_normalization_3 (Batch (None, 3, 3, 512)         2048      \n",
      "_________________________________________________________________\n",
      "block4_pool (MaxPooling2D)   (None, 1, 1, 512)         0         \n",
      "_________________________________________________________________\n",
      "dropout_3 (Dropout)          (None, 1, 1, 512)         0         \n",
      "_________________________________________________________________\n",
      "flatten (Flatten)            (None, 512)               0         \n",
      "_________________________________________________________________\n",
      "fc1 (Dense)                  (None, 4096)              2101248   \n",
      "_________________________________________________________________\n",
      "dense1_dropout (Dropout)     (None, 4096)              0         \n",
      "_________________________________________________________________\n",
      "fc2 (Dense)                  (None, 4096)              16781312  \n",
      "_________________________________________________________________\n",
      "dense2_dropout (Dropout)     (None, 4096)              0         \n",
      "_________________________________________________________________\n",
      "predictions (Dense)          (None, 15)                61455     \n",
      "=================================================================\n",
      "Total params: 20,498,831\n",
      "Trainable params: 20,496,911\n",
      "Non-trainable params: 1,920\n",
      "_________________________________________________________________\n"
     ]
    }
   ],
   "source": [
    "# Getting the CNN model\n",
    "model = CnnModel.getModel(inShape, nbClass)\n",
    "model.summary()"
   ]
  },
  {
   "cell_type": "code",
   "execution_count": 11,
   "metadata": {},
   "outputs": [
    {
     "name": "stdout",
     "output_type": "stream",
     "text": [
      "Epoch 1/20\n",
      "1800/1800 [==============================] - 20s 11ms/step - loss: 1.7610 - accuracy: 0.4583 - val_loss: 1.5213 - val_accuracy: 0.5367\n",
      "Epoch 2/20\n",
      "1800/1800 [==============================] - 16s 9ms/step - loss: 1.2043 - accuracy: 0.6042 - val_loss: 1.4670 - val_accuracy: 0.5617\n",
      "Epoch 3/20\n",
      "1800/1800 [==============================] - 16s 9ms/step - loss: 0.9576 - accuracy: 0.6890 - val_loss: 1.0087 - val_accuracy: 0.6867\n",
      "Epoch 4/20\n",
      "1800/1800 [==============================] - 16s 9ms/step - loss: 0.8019 - accuracy: 0.7394 - val_loss: 1.0773 - val_accuracy: 0.7100\n",
      "Epoch 5/20\n",
      "1800/1800 [==============================] - 17s 9ms/step - loss: 0.6756 - accuracy: 0.7782 - val_loss: 1.0279 - val_accuracy: 0.7183\n",
      "Epoch 6/20\n",
      "1800/1800 [==============================] - 15s 8ms/step - loss: 0.6016 - accuracy: 0.8067 - val_loss: 0.9573 - val_accuracy: 0.7317\n",
      "Epoch 7/20\n",
      "1800/1800 [==============================] - 16s 9ms/step - loss: 0.5300 - accuracy: 0.8306 - val_loss: 1.1363 - val_accuracy: 0.7333\n",
      "Epoch 8/20\n",
      "1800/1800 [==============================] - 16s 9ms/step - loss: 0.4599 - accuracy: 0.8539 - val_loss: 1.2449 - val_accuracy: 0.7267\n",
      "Epoch 9/20\n",
      "1800/1800 [==============================] - 16s 9ms/step - loss: 0.4250 - accuracy: 0.8607 - val_loss: 1.2251 - val_accuracy: 0.7267\n",
      "Epoch 10/20\n",
      "1800/1800 [==============================] - 16s 9ms/step - loss: 0.3795 - accuracy: 0.8813 - val_loss: 1.4783 - val_accuracy: 0.6967\n",
      "Epoch 11/20\n",
      "1800/1800 [==============================] - 16s 9ms/step - loss: 0.3539 - accuracy: 0.8910 - val_loss: 1.1023 - val_accuracy: 0.7550\n",
      "Epoch 12/20\n",
      "1800/1800 [==============================] - 15s 9ms/step - loss: 0.3262 - accuracy: 0.8993 - val_loss: 1.1282 - val_accuracy: 0.7600\n",
      "Epoch 13/20\n",
      "1800/1800 [==============================] - 15s 9ms/step - loss: 0.2988 - accuracy: 0.9056 - val_loss: 1.7548 - val_accuracy: 0.6817\n",
      "Epoch 14/20\n",
      "1800/1800 [==============================] - 16s 9ms/step - loss: 0.2867 - accuracy: 0.9120 - val_loss: 1.2441 - val_accuracy: 0.7667\n",
      "Epoch 15/20\n",
      "1800/1800 [==============================] - 15s 8ms/step - loss: 0.2752 - accuracy: 0.9190 - val_loss: 1.5384 - val_accuracy: 0.7433\n",
      "Epoch 16/20\n",
      "1800/1800 [==============================] - 15s 8ms/step - loss: 0.2580 - accuracy: 0.9210 - val_loss: 1.3635 - val_accuracy: 0.7267\n",
      "Epoch 17/20\n",
      "1800/1800 [==============================] - 16s 9ms/step - loss: 0.2383 - accuracy: 0.9289 - val_loss: 1.3333 - val_accuracy: 0.7700\n",
      "Epoch 18/20\n",
      "1800/1800 [==============================] - 15s 8ms/step - loss: 0.2229 - accuracy: 0.9342 - val_loss: 2.0264 - val_accuracy: 0.7000\n",
      "Epoch 19/20\n",
      "1800/1800 [==============================] - 15s 8ms/step - loss: 0.2266 - accuracy: 0.9333 - val_loss: 1.4024 - val_accuracy: 0.7667\n",
      "Epoch 20/20\n",
      "1800/1800 [==============================] - 15s 8ms/step - loss: 0.2166 - accuracy: 0.9374 - val_loss: 1.1815 - val_accuracy: 0.7900\n"
     ]
    }
   ],
   "source": [
    "# Perform Learning\n",
    "hist = model.fit(xTrain, yTrain,\n",
    "          batch_size=8,\n",
    "          epochs=20,\n",
    "          verbose=1,\n",
    "          validation_data=(xTest, yTest))"
   ]
  },
  {
   "cell_type": "code",
   "execution_count": 12,
   "metadata": {
    "scrolled": true
   },
   "outputs": [
    {
     "name": "stdout",
     "output_type": "stream",
     "text": [
      "19/19 [==============================] - 6s 297ms/step - loss: 1.1815 - accuracy: 0.7900\n",
      "Accuracy = 0.7900000214576721 Loss = 1.1814591884613037\n"
     ]
    }
   ],
   "source": [
    "# Evaluating Model\n",
    "score = model.evaluate(xTest, yTest, verbose=1)\n",
    "print(\"Accuracy =\", score[1], \"Loss =\", score[0])"
   ]
  },
  {
   "cell_type": "code",
   "execution_count": 13,
   "metadata": {},
   "outputs": [
    {
     "data": {
      "image/png": "[encoded data removed]",
      "text/plain": [
       "<Figure size 432x288 with 1 Axes>"
      ]
     },
     "metadata": {
      "needs_background": "light"
     },
     "output_type": "display_data"
    },
    {
     "data": {
      "image/png": "[encoded data removed]",
      "text/plain": [
       "<Figure size 432x288 with 1 Axes>"
      ]
     },
     "metadata": {
      "needs_background": "light"
     },
     "output_type": "display_data"
    }
   ],
   "source": [
    "# Plotting the Accuracy Trends\n",
    "plt.plot(hist.history[\"accuracy\"])\n",
    "plt.plot(hist.history[\"val_accuracy\"])\n",
    "plt.title(\"Accuracy\")\n",
    "plt.legend([\"train\", \"test\"], loc=\"upper left\")\n",
    "plt.show()\n",
    "\n",
    "# Plotting the Loss Trends\n",
    "plt.plot(hist.history[\"loss\"])\n",
    "plt.plot(hist.history[\"val_loss\"])\n",
    "plt.title(\"Loss\")\n",
    "plt.legend([\"train\", \"test\"], loc=\"upper left\")\n",
    "plt.show()"
   ]
  },
  {
   "cell_type": "code",
   "execution_count": 14,
   "metadata": {},
   "outputs": [],
   "source": [
    "# Save the trained models\n",
    "model.save_weights(\"./SystemData/Model/SushiModel.hdf5\")"
   ]
  },
  {
   "cell_type": "code",
   "execution_count": null,
   "metadata": {},
   "outputs": [],
   "source": []
  }
 ],
 "metadata": {
  "kernelspec": {
   "display_name": "Python 3",
   "language": "python",
   "name": "python3"
  },
  "language_info": {
   "codemirror_mode": {
    "name": "ipython",
    "version": 3
   },
   "file_extension": ".py",
   "mimetype": "text/x-python",
   "name": "python",
   "nbconvert_exporter": "python",
   "pygments_lexer": "ipython3",
   "version": "3.7.6"
  }
 },
 "nbformat": 4,
 "nbformat_minor": 4
}